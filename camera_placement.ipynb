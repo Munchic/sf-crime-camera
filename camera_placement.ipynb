{
 "cells": [
  {
   "cell_type": "markdown",
   "metadata": {},
   "source": [
    "# Algorithm for Optimal Camera Placement"
   ]
  },
  {
   "cell_type": "markdown",
   "metadata": {},
   "source": [
    "This algorithm uses open-source dataset from Kaggle (https://www.kaggle.com/c/sf-crime) of crime in San Francisco from 2003 to 2015 to analyze regions that need cameras to be installed."
   ]
  },
  {
   "cell_type": "code",
   "execution_count": 3,
   "metadata": {},
   "outputs": [],
   "source": [
    "### DATA IMPORT\n",
    "import csv\n",
    "\n",
    "incidents = []\n",
    "with open('incidents.csv') as csvfile:\n",
    "    reader = csv.reader(csvfile)\n",
    "    counter = 0\n",
    "    for row in reader:\n",
    "        if counter > 0:\n",
    "            (x, y) = (float(row[5]), float(row[6]))\n",
    "            incidents.append(row[:5])\n",
    "            incidents[counter].extend((x, y))\n",
    "        else:\n",
    "            incidents.append(row)\n",
    "        counter += 1"
   ]
  },
  {
   "cell_type": "code",
   "execution_count": 4,
   "metadata": {},
   "outputs": [],
   "source": [
    "### CRIMES W/ WEAPONS\n",
    "severe_incidents = [incidents[0]]\n",
    "\n",
    "for incident in incidents:\n",
    "    if incident[2].find('GUN') > -1 or incident[2].find('KNIFE') > -1 or incident[2].find('WEAPON') > -1:\n",
    "        severe_incidents.append(incident)"
   ]
  },
  {
   "cell_type": "code",
   "execution_count": 5,
   "metadata": {
    "scrolled": false
   },
   "outputs": [
    {
     "data": {
      "text/html": [
       "<div>\n",
       "<style scoped>\n",
       "    .dataframe tbody tr th:only-of-type {\n",
       "        vertical-align: middle;\n",
       "    }\n",
       "\n",
       "    .dataframe tbody tr th {\n",
       "        vertical-align: top;\n",
       "    }\n",
       "\n",
       "    .dataframe thead th {\n",
       "        text-align: right;\n",
       "    }\n",
       "</style>\n",
       "<table border=\"1\" class=\"dataframe\">\n",
       "  <thead>\n",
       "    <tr style=\"text-align: right;\">\n",
       "      <th></th>\n",
       "      <th>0</th>\n",
       "      <th>1</th>\n",
       "      <th>2</th>\n",
       "      <th>3</th>\n",
       "      <th>4</th>\n",
       "      <th>5</th>\n",
       "      <th>6</th>\n",
       "    </tr>\n",
       "  </thead>\n",
       "  <tbody>\n",
       "    <tr>\n",
       "      <th>0</th>\n",
       "      <td>﻿Dates</td>\n",
       "      <td>Category</td>\n",
       "      <td>Descript</td>\n",
       "      <td>Resolution</td>\n",
       "      <td>Address</td>\n",
       "      <td>X</td>\n",
       "      <td>Y</td>\n",
       "    </tr>\n",
       "    <tr>\n",
       "      <th>1</th>\n",
       "      <td>5/13/15 04:45</td>\n",
       "      <td>ROBBERY</td>\n",
       "      <td>ROBBERY,  ATM, GUN</td>\n",
       "      <td>NONE</td>\n",
       "      <td>1500 Block of MARKET ST</td>\n",
       "      <td>-122.42</td>\n",
       "      <td>37.7747</td>\n",
       "    </tr>\n",
       "    <tr>\n",
       "      <th>2</th>\n",
       "      <td>5/12/15 16:26</td>\n",
       "      <td>ROBBERY</td>\n",
       "      <td>ATTEMPTED ROBBERY WITH A DEADLY WEAPON</td>\n",
       "      <td>NONE</td>\n",
       "      <td>1000 Block of MARKET ST</td>\n",
       "      <td>-122.411</td>\n",
       "      <td>37.7818</td>\n",
       "    </tr>\n",
       "    <tr>\n",
       "      <th>3</th>\n",
       "      <td>5/12/15 11:20</td>\n",
       "      <td>ROBBERY</td>\n",
       "      <td>ROBBERY OF A CHAIN STORE WITH A KNIFE</td>\n",
       "      <td>ARREST, BOOKED</td>\n",
       "      <td>1000 Block of MARKET ST</td>\n",
       "      <td>-122.411</td>\n",
       "      <td>37.7813</td>\n",
       "    </tr>\n",
       "    <tr>\n",
       "      <th>4</th>\n",
       "      <td>5/12/15 11:20</td>\n",
       "      <td>ASSAULT</td>\n",
       "      <td>AGGRAVATED ASSAULT WITH A KNIFE</td>\n",
       "      <td>ARREST, BOOKED</td>\n",
       "      <td>1000 Block of MARKET ST</td>\n",
       "      <td>-122.411</td>\n",
       "      <td>37.7813</td>\n",
       "    </tr>\n",
       "    <tr>\n",
       "      <th>5</th>\n",
       "      <td>5/3/15 17:05</td>\n",
       "      <td>ASSAULT</td>\n",
       "      <td>AGGRAVATED ASSAULT WITH A KNIFE</td>\n",
       "      <td>ARREST, BOOKED</td>\n",
       "      <td>900 Block of MARKET ST</td>\n",
       "      <td>-122.408</td>\n",
       "      <td>37.7836</td>\n",
       "    </tr>\n",
       "    <tr>\n",
       "      <th>6</th>\n",
       "      <td>5/3/15 17:05</td>\n",
       "      <td>ROBBERY</td>\n",
       "      <td>ROBBERY OF A CHAIN STORE WITH A KNIFE</td>\n",
       "      <td>ARREST, BOOKED</td>\n",
       "      <td>900 Block of MARKET ST</td>\n",
       "      <td>-122.408</td>\n",
       "      <td>37.7836</td>\n",
       "    </tr>\n",
       "    <tr>\n",
       "      <th>7</th>\n",
       "      <td>5/2/15 17:15</td>\n",
       "      <td>WEAPON LAWS</td>\n",
       "      <td>EXHIBITING DEADLY WEAPON IN A THREATING MANNER</td>\n",
       "      <td>ARREST, BOOKED</td>\n",
       "      <td>2400 Block of MARKET ST</td>\n",
       "      <td>-122.436</td>\n",
       "      <td>37.7625</td>\n",
       "    </tr>\n",
       "    <tr>\n",
       "      <th>8</th>\n",
       "      <td>5/1/15 19:44</td>\n",
       "      <td>ROBBERY</td>\n",
       "      <td>ROBBERY, ARMED WITH A GUN</td>\n",
       "      <td>NONE</td>\n",
       "      <td>800 Block of MARKET ST</td>\n",
       "      <td>-122.408</td>\n",
       "      <td>37.7842</td>\n",
       "    </tr>\n",
       "    <tr>\n",
       "      <th>9</th>\n",
       "      <td>5/1/15 15:35</td>\n",
       "      <td>ASSAULT</td>\n",
       "      <td>AGGRAVATED ASSAULT WITH A DEADLY WEAPON</td>\n",
       "      <td>NONE</td>\n",
       "      <td>3RD ST / MARKET ST</td>\n",
       "      <td>-122.403</td>\n",
       "      <td>37.7876</td>\n",
       "    </tr>\n",
       "    <tr>\n",
       "      <th>10</th>\n",
       "      <td>5/1/15 06:30</td>\n",
       "      <td>ROBBERY</td>\n",
       "      <td>ATTEMPTED ROBBERY ON THE STREET W/DEADLY WEAPON</td>\n",
       "      <td>NONE</td>\n",
       "      <td>MARKET ST / 8TH ST</td>\n",
       "      <td>-122.415</td>\n",
       "      <td>37.7787</td>\n",
       "    </tr>\n",
       "    <tr>\n",
       "      <th>11</th>\n",
       "      <td>4/28/15 17:00</td>\n",
       "      <td>WEAPON LAWS</td>\n",
       "      <td>EXHIBITING DEADLY WEAPON IN A THREATING MANNER</td>\n",
       "      <td>NONE</td>\n",
       "      <td>1200 Block of MARKET ST</td>\n",
       "      <td>-122.415</td>\n",
       "      <td>37.7783</td>\n",
       "    </tr>\n",
       "    <tr>\n",
       "      <th>12</th>\n",
       "      <td>4/28/15 08:50</td>\n",
       "      <td>ROBBERY</td>\n",
       "      <td>ROBBERY OF A CHAIN STORE WITH A DANGEROUS WEAPON</td>\n",
       "      <td>ARREST, BOOKED</td>\n",
       "      <td>2000 Block of MARKET ST</td>\n",
       "      <td>-122.428</td>\n",
       "      <td>37.7683</td>\n",
       "    </tr>\n",
       "    <tr>\n",
       "      <th>13</th>\n",
       "      <td>4/27/15 22:50</td>\n",
       "      <td>ASSAULT</td>\n",
       "      <td>AGGRAVATED ASSAULT WITH A KNIFE</td>\n",
       "      <td>ARREST, BOOKED</td>\n",
       "      <td>MARKET ST / CASTRO ST</td>\n",
       "      <td>-122.435</td>\n",
       "      <td>37.7627</td>\n",
       "    </tr>\n",
       "    <tr>\n",
       "      <th>14</th>\n",
       "      <td>4/15/15 15:49</td>\n",
       "      <td>WEAPON LAWS</td>\n",
       "      <td>CARRYING A CONCEALED WEAPON</td>\n",
       "      <td>ARREST, BOOKED</td>\n",
       "      <td>1000 Block of MARKET ST</td>\n",
       "      <td>-122.411</td>\n",
       "      <td>37.7818</td>\n",
       "    </tr>\n",
       "    <tr>\n",
       "      <th>15</th>\n",
       "      <td>4/15/15 15:49</td>\n",
       "      <td>WEAPON LAWS</td>\n",
       "      <td>LOITERING WHILE CARRYING CONCEALED WEAPON</td>\n",
       "      <td>ARREST, BOOKED</td>\n",
       "      <td>1000 Block of MARKET ST</td>\n",
       "      <td>-122.411</td>\n",
       "      <td>37.7818</td>\n",
       "    </tr>\n",
       "  </tbody>\n",
       "</table>\n",
       "</div>"
      ],
      "text/plain": [
       "                0            1  \\\n",
       "0          ﻿Dates     Category   \n",
       "1   5/13/15 04:45      ROBBERY   \n",
       "2   5/12/15 16:26      ROBBERY   \n",
       "3   5/12/15 11:20      ROBBERY   \n",
       "4   5/12/15 11:20      ASSAULT   \n",
       "5    5/3/15 17:05      ASSAULT   \n",
       "6    5/3/15 17:05      ROBBERY   \n",
       "7    5/2/15 17:15  WEAPON LAWS   \n",
       "8    5/1/15 19:44      ROBBERY   \n",
       "9    5/1/15 15:35      ASSAULT   \n",
       "10   5/1/15 06:30      ROBBERY   \n",
       "11  4/28/15 17:00  WEAPON LAWS   \n",
       "12  4/28/15 08:50      ROBBERY   \n",
       "13  4/27/15 22:50      ASSAULT   \n",
       "14  4/15/15 15:49  WEAPON LAWS   \n",
       "15  4/15/15 15:49  WEAPON LAWS   \n",
       "\n",
       "                                                   2               3  \\\n",
       "0                                           Descript      Resolution   \n",
       "1                                 ROBBERY,  ATM, GUN            NONE   \n",
       "2             ATTEMPTED ROBBERY WITH A DEADLY WEAPON            NONE   \n",
       "3              ROBBERY OF A CHAIN STORE WITH A KNIFE  ARREST, BOOKED   \n",
       "4                    AGGRAVATED ASSAULT WITH A KNIFE  ARREST, BOOKED   \n",
       "5                    AGGRAVATED ASSAULT WITH A KNIFE  ARREST, BOOKED   \n",
       "6              ROBBERY OF A CHAIN STORE WITH A KNIFE  ARREST, BOOKED   \n",
       "7     EXHIBITING DEADLY WEAPON IN A THREATING MANNER  ARREST, BOOKED   \n",
       "8                          ROBBERY, ARMED WITH A GUN            NONE   \n",
       "9            AGGRAVATED ASSAULT WITH A DEADLY WEAPON            NONE   \n",
       "10   ATTEMPTED ROBBERY ON THE STREET W/DEADLY WEAPON            NONE   \n",
       "11    EXHIBITING DEADLY WEAPON IN A THREATING MANNER            NONE   \n",
       "12  ROBBERY OF A CHAIN STORE WITH A DANGEROUS WEAPON  ARREST, BOOKED   \n",
       "13                   AGGRAVATED ASSAULT WITH A KNIFE  ARREST, BOOKED   \n",
       "14                       CARRYING A CONCEALED WEAPON  ARREST, BOOKED   \n",
       "15         LOITERING WHILE CARRYING CONCEALED WEAPON  ARREST, BOOKED   \n",
       "\n",
       "                          4        5        6  \n",
       "0                   Address        X        Y  \n",
       "1   1500 Block of MARKET ST  -122.42  37.7747  \n",
       "2   1000 Block of MARKET ST -122.411  37.7818  \n",
       "3   1000 Block of MARKET ST -122.411  37.7813  \n",
       "4   1000 Block of MARKET ST -122.411  37.7813  \n",
       "5    900 Block of MARKET ST -122.408  37.7836  \n",
       "6    900 Block of MARKET ST -122.408  37.7836  \n",
       "7   2400 Block of MARKET ST -122.436  37.7625  \n",
       "8    800 Block of MARKET ST -122.408  37.7842  \n",
       "9        3RD ST / MARKET ST -122.403  37.7876  \n",
       "10       MARKET ST / 8TH ST -122.415  37.7787  \n",
       "11  1200 Block of MARKET ST -122.415  37.7783  \n",
       "12  2000 Block of MARKET ST -122.428  37.7683  \n",
       "13    MARKET ST / CASTRO ST -122.435  37.7627  \n",
       "14  1000 Block of MARKET ST -122.411  37.7818  \n",
       "15  1000 Block of MARKET ST -122.411  37.7818  "
      ]
     },
     "execution_count": 5,
     "metadata": {},
     "output_type": "execute_result"
    }
   ],
   "source": [
    "### DISPLAY DATA\n",
    "import pandas as pd\n",
    "\n",
    "display_num = 15\n",
    "\n",
    "pd.DataFrame(severe_incidents)[:display_num+1]"
   ]
  },
  {
   "cell_type": "code",
   "execution_count": 6,
   "metadata": {},
   "outputs": [
    {
     "data": {
      "application/vnd.jupyter.widget-view+json": {
       "model_id": "27cff0d6d24b4e639dd28cdaecfb4107"
      }
     },
     "metadata": {},
     "output_type": "display_data"
    }
   ],
   "source": [
    "### ESRI MAP\n",
    "from arcgis.gis import GIS\n",
    "from arcgis.geocoding import Geocoder, get_geocoders, geocode\n",
    "from IPython.display import display\n",
    "import ipywidgets\n",
    "\n",
    "gis = GIS()\n",
    "sf_map = gis.map('-122.4302653, 37.78282262', zoomlevel=14)\n",
    "    \n",
    "sf_map"
   ]
  },
  {
   "cell_type": "code",
   "execution_count": 7,
   "metadata": {},
   "outputs": [],
   "source": [
    "### CRIME MAPPING\n",
    "incident_symbol = {\n",
    "    \"type\": \"esriSMS\",\n",
    "    \"style\": \"esriSMSCircle\",\n",
    "    \"color\": [244, 66, 66, 5],\n",
    "    \"size\": 12,\n",
    "    \"angle\": 0,\n",
    "    \"xoffset\": 0,\n",
    "    \"yoffset\": 0\n",
    "}\n",
    "\n",
    "for incident in severe_incidents[1:]:\n",
    "    popup = { \n",
    "        \"title\" : incident[2], \n",
    "        \"content\" : 'Date: ' + incident[0] + ' at ' + incident[4]\n",
    "    }\n",
    "    sf_map.draw({'x': incident[5], 'y': incident[6]}, popup, incident_symbol)"
   ]
  },
  {
   "cell_type": "code",
   "execution_count": 8,
   "metadata": {},
   "outputs": [],
   "source": [
    "### LAMP LOCATIONS\n",
    "lights = []\n",
    "\n",
    "with open('lamp_post_locations.csv') as csvfile:\n",
    "    reader = csv.reader(csvfile)\n",
    "    counter = 0\n",
    "    for row in reader:\n",
    "        if counter > 0:\n",
    "            lights.append((float(row[0]), float(row[1])))\n",
    "        counter += 1"
   ]
  },
  {
   "cell_type": "code",
   "execution_count": 9,
   "metadata": {},
   "outputs": [],
   "source": [
    "### LAMP MAPPING\n",
    "lamp_symbol = {\n",
    "    \"type\": \"esriSMS\",\n",
    "    \"style\": \"esriSMSCircle\",\n",
    "    \"color\": [244, 244, 66, 255],\n",
    "    \"size\": 5,\n",
    "    \"angle\": 0,\n",
    "    \"xoffset\": 0,\n",
    "    \"yoffset\": 0\n",
    "}\n",
    "\n",
    "for light in lights:\n",
    "    popup = { \n",
    "        \"title\" : \"Lamp post\"\n",
    "    }\n",
    "    sf_map.draw({'x': light[0], 'y': light[1]}, popup, lamp_symbol)"
   ]
  },
  {
   "cell_type": "code",
   "execution_count": 10,
   "metadata": {},
   "outputs": [],
   "source": [
    "### CAMERA SYSTEM SPECIFICATIONS\n",
    "view_radius = 10 # maximum view range in meters\n",
    "blind_radius = 1.5 # blind spot under the lamp posts in meters\n",
    "\n",
    "price = 200 # in dollars"
   ]
  },
  {
   "cell_type": "code",
   "execution_count": 11,
   "metadata": {},
   "outputs": [
    {
     "data": {
      "text/plain": [
       "120848.2944454987"
      ]
     },
     "execution_count": 11,
     "metadata": {},
     "output_type": "execute_result"
    }
   ],
   "source": [
    "### DISTANCE CALCULATION\n",
    "import math\n",
    "\n",
    "def dist(lat1, lon1, lat2, lon2):\n",
    "    R = 6371e3\n",
    "    phi1 = math.radians(lat1)\n",
    "    phi2 = math.radians(lat2)\n",
    "    d_phi = math.radians(lat2-lat1)\n",
    "    d_lambda = math.radians(lon2-lon1)\n",
    "    \n",
    "    a = math.sin(d_phi/2)**2 + math.cos(phi1)*math.cos(phi2)*math.sin(d_lambda/2)**2\n",
    "    c = 2 * math.atan2(a**.5, (1-a)**.5)\n",
    "    d = R * c\n",
    "    \n",
    "    return d\n",
    "\n",
    "    \n",
    "dist(-122.5643, 37.5645, -123.5256, 36.6346)"
   ]
  },
  {
   "cell_type": "code",
   "execution_count": 47,
   "metadata": {},
   "outputs": [],
   "source": [
    "### OPTIMAL LOCATION OF CAMERAS\n",
    "from itertools import repeat\n",
    "\n",
    "def merge(arr1, arr2):\n",
    "    newArr = []\n",
    "    for i in range(len(arr1)):\n",
    "        newArr.append(max(arr1[i], arr2[i]))\n",
    "    return newArr\n",
    "\n",
    "def optimal_camera_placement(count):\n",
    "    print(\"Calculating efficiency for\", count, \"camera\" + (\"s\" if count > 1 else \"\"), end='\\r')\n",
    "    covered_total = 0\n",
    "    camera_locations = []\n",
    "    covered_incidents = list(repeat(0, len(severe_incidents))) # creating a list of incidents cameras cover\n",
    "\n",
    "    for x in range(count):\n",
    "        covered_max = 0\n",
    "        best_light = 1\n",
    "        \n",
    "        covered_incidents_best = list(repeat(0, len(severe_incidents)))\n",
    "        covered_incidents_temp = list(repeat(0, len(severe_incidents)))\n",
    "\n",
    "        for i in range(1, len(lights)):\n",
    "            covered = 0\n",
    "            for j in range(1, len(severe_incidents)):\n",
    "                if covered_incidents[j] == 0 and dist(severe_incidents[j][5], severe_incidents[j][6], lights[i][0], lights[i][1]) <= view_radius:\n",
    "                    covered += 1\n",
    "                    covered_incidents_temp[j] = 1\n",
    "\n",
    "            if covered > covered_max:\n",
    "                covered_max = covered\n",
    "                covered_incidents_best = covered_incidents_temp\n",
    "                best_light = i\n",
    "            covered_incidents_temp = list(repeat(0, len(severe_incidents)))\n",
    "            \n",
    "        covered_total += covered_max  \n",
    "        covered_incidents = merge(covered_incidents, covered_incidents_best)\n",
    "        camera_locations.append(lights[best_light])\n",
    "        \n",
    "    return camera_locations, covered_total"
   ]
  },
  {
   "cell_type": "code",
   "execution_count": null,
   "metadata": {},
   "outputs": [],
   "source": [
    "### CAMERA MAPPING\n",
    "camera_locations, covered_total = optimal_camera_placement(45) # positioning 25 cameras\n",
    "\n",
    "camera_symbol = {\n",
    "    \"type\": \"esriSMS\",\n",
    "    \"style\": \"esriSMSCircle\",\n",
    "    \"color\": [66, 134, 244, 255],\n",
    "    \"size\": 7,\n",
    "    \"angle\": 0,\n",
    "    \"xoffset\": 0,\n",
    "    \"yoffset\": 0\n",
    "}\n",
    "\n",
    "for camera in camera_locations:\n",
    "    popup = { \n",
    "        \"title\" : \"360° Camera Set-up\"\n",
    "    }\n",
    "    sf_map.draw({'x': camera[0], 'y': camera[1]}, popup, camera_symbol)\n",
    "    \n",
    "print(\"Estimated efficiency: \", 0.8 * covered_total / len(severe_incidents))"
   ]
  },
  {
   "cell_type": "code",
   "execution_count": 51,
   "metadata": {},
   "outputs": [
    {
     "name": "stdout",
     "output_type": "stream",
     "text": [
      "Done!lating efficiency for 4 cameras\r"
     ]
    },
    {
     "data": {
      "image/png": "[encoded data removed]",
      "text/plain": [
       "<Figure size 432x288 with 1 Axes>"
      ]
     },
     "metadata": {},
     "output_type": "display_data"
    }
   ],
   "source": [
    "### COST CALCULATION\n",
    "import matplotlib.pyplot as plt\n",
    "\n",
    "for i in range(1, 5):\n",
    "    plt.scatter(i, 0.8 * optimal_camera_placement(i)[1] / len(severe_incidents), c=\"blue\")\n",
    "    \n",
    "plt.show()"
   ]
  },
  {
   "cell_type": "code",
   "execution_count": null,
   "metadata": {},
   "outputs": [],
   "source": [
    "camera_map_config = []"
   ]
  }
 ],
 "metadata": {
  "kernelspec": {
   "display_name": "Python 3",
   "language": "python",
   "name": "python3"
  },
  "language_info": {
   "codemirror_mode": {
    "name": "ipython",
    "version": 3
   },
   "file_extension": ".py",
   "mimetype": "text/x-python",
   "name": "python",
   "nbconvert_exporter": "python",
   "pygments_lexer": "ipython3",
   "version": "3.6.1"
  },
  "widgets": {
   "state": {
    "a73111647b1747d9b0b1012de8d2f7e2": {
     "views": [
      {
       "cell_index": 1
      }
     ]
    },
    "d1caf4f329ae49c79997bcfef51da20c": {
     "views": [
      {
       "cell_index": 1
      }
     ]
    }
   },
   "version": "1.2.0"
  }
 },
 "nbformat": 4,
 "nbformat_minor": 2
}
